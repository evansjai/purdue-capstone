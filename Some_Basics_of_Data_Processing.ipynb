{
 "nbformat": 4,
 "nbformat_minor": 0,
 "metadata": {
  "colab": {
   "provenance": []
  },
  "kernelspec": {
   "name": "python3",
   "display_name": "Python 3"
  },
  "language_info": {
   "name": "python"
  }
 },
 "cells": [
  {
   "cell_type": "code",
   "execution_count": null,
   "metadata": {
    "id": "uNRSFgX1XG0T"
   },
   "outputs": [],
   "source": [
    "import pandas as pd\n",
    "import numpy as np"
   ]
  },
  {
   "cell_type": "markdown",
   "source": [
    "# **1. Import Data**"
   ],
   "metadata": {
    "id": "QsYVLNqIZNC4"
   }
  },
  {
   "cell_type": "code",
   "source": [
    "df = pd.read_csv('sales_data.csv')"
   ],
   "metadata": {
    "id": "EgLOoFbkY6Ne"
   },
   "execution_count": null,
   "outputs": []
  },
  {
   "cell_type": "code",
   "source": [
    "type(df)"
   ],
   "metadata": {
    "id": "yBrqeaO04TEj"
   },
   "execution_count": null,
   "outputs": []
  },
  {
   "cell_type": "code",
   "source": [
    "df.head()"
   ],
   "metadata": {
    "id": "9Uhk0Q69Y8QI"
   },
   "execution_count": null,
   "outputs": []
  },
  {
   "cell_type": "code",
   "source": [
    "df.tail()"
   ],
   "metadata": {
    "id": "rF5av_SzY9HS"
   },
   "execution_count": null,
   "outputs": []
  },
  {
   "cell_type": "code",
   "source": [
    "df.iloc[10:20,0:3]"
   ],
   "metadata": {
    "id": "RGl_HwBH36J7"
   },
   "execution_count": null,
   "outputs": []
  },
  {
   "cell_type": "code",
   "source": [
    "df.shape"
   ],
   "metadata": {
    "id": "3JyJalBCnLmj"
   },
   "execution_count": null,
   "outputs": []
  },
  {
   "cell_type": "code",
   "source": [
    "df['Customer_Gender'].unique()"
   ],
   "metadata": {
    "id": "JiputSNMrnvz"
   },
   "execution_count": null,
   "outputs": []
  },
  {
   "cell_type": "code",
   "source": [
    "df['Product'].unique()"
   ],
   "metadata": {
    "id": "zi4CMRdM5eoG"
   },
   "execution_count": null,
   "outputs": []
  },
  {
   "cell_type": "code",
   "source": [
    "df['Region'].value_counts()"
   ],
   "metadata": {
    "id": "MY_ta6EWrrJM"
   },
   "execution_count": null,
   "outputs": []
  },
  {
   "cell_type": "markdown",
   "source": [
    "# **2. Explore Data**"
   ],
   "metadata": {
    "id": "Iw-ONURZZT9u"
   }
  },
  {
   "cell_type": "markdown",
   "source": [
    "## 2.1  Datatypes"
   ],
   "metadata": {
    "id": "UmNuPyi5ZeoH"
   }
  },
  {
   "cell_type": "code",
   "source": [
    "df.info()"
   ],
   "metadata": {
    "id": "oRQoZRDgZG6T"
   },
   "execution_count": null,
   "outputs": []
  },
  {
   "cell_type": "code",
   "source": [
    "df['Date'] = pd.to_datetime(df['Date'])"
   ],
   "metadata": {
    "id": "eVrTMfCsZhnQ"
   },
   "execution_count": null,
   "outputs": []
  },
  {
   "cell_type": "code",
   "source": [
    "df.info()"
   ],
   "metadata": {
    "id": "BKWE-NZcnXzL"
   },
   "execution_count": null,
   "outputs": []
  },
  {
   "cell_type": "code",
   "source": [
    "df[['Sales','Customer_Age','Customer_Satisfaction']].head()"
   ],
   "metadata": {
    "id": "Hel4rIqiqyPJ"
   },
   "execution_count": null,
   "outputs": []
  },
  {
   "cell_type": "code",
   "source": [
    "df[df['Region'] == 'East'].head()"
   ],
   "metadata": {
    "id": "xYi59n-e_bm-"
   },
   "execution_count": null,
   "outputs": []
  },
  {
   "cell_type": "code",
   "source": [
    "df[(df['Region'] == 'East') & (df['Customer_Gender'] == 'Female')].head()"
   ],
   "metadata": {
    "id": "0RuocTzF_oyR"
   },
   "execution_count": null,
   "outputs": []
  },
  {
   "cell_type": "markdown",
   "source": [
    "## 2.2 Calculate Statistics"
   ],
   "metadata": {
    "id": "XdfHJbHbniPM"
   }
  },
  {
   "cell_type": "code",
   "source": [
    "df.describe().T"
   ],
   "metadata": {
    "id": "18eqGb98nYyU"
   },
   "execution_count": null,
   "outputs": []
  },
  {
   "cell_type": "code",
   "source": [
    "df['Customer_Age'].mean(), df['Customer_Satisfaction'].median()"
   ],
   "metadata": {
    "id": "goZgwcx2nadP"
   },
   "execution_count": null,
   "outputs": []
  },
  {
   "cell_type": "code",
   "source": [
    "df['Customer_Age'].std()"
   ],
   "metadata": {
    "id": "a7N5yAqX7wdk"
   },
   "execution_count": null,
   "outputs": []
  },
  {
   "cell_type": "code",
   "source": [
    "df['Customer_Age'].mode()"
   ],
   "metadata": {
    "id": "rcp9mZ_E8EEu"
   },
   "execution_count": null,
   "outputs": []
  },
  {
   "cell_type": "code",
   "source": [
    "df.groupby(by='Customer_Gender')['Customer_Satisfaction'].median()"
   ],
   "metadata": {
    "id": "IEv83w0ynqn8"
   },
   "execution_count": null,
   "outputs": []
  },
  {
   "cell_type": "code",
   "source": [
    "df.groupby(by='Region')['Customer_Satisfaction'].mean()"
   ],
   "metadata": {
    "id": "mgQfGbz3oOUw"
   },
   "execution_count": null,
   "outputs": []
  },
  {
   "cell_type": "code",
   "source": [
    "df['Date'].dt.month, df['Date'].dt.year, df['Date'].dt.day"
   ],
   "metadata": {
    "id": "IENk1nQxtCX3"
   },
   "execution_count": null,
   "outputs": []
  },
  {
   "cell_type": "markdown",
   "source": [
    "## 2.3 Add Columns"
   ],
   "metadata": {
    "id": "W7ka7_lhsp-i"
   }
  },
  {
   "cell_type": "code",
   "source": [
    "import calendar\n",
    "df['Date_Month'] = df.apply(lambda x: f\"{x['Date'].year}-{calendar.month_abbr[x['Date'].month]}\", axis=1)"
   ],
   "metadata": {
    "id": "0qCUpm8-ssrg"
   },
   "execution_count": null,
   "outputs": []
  },
  {
   "cell_type": "code",
   "source": [
    "df.groupby(by='Date_Month')['Sales'].sum()"
   ],
   "metadata": {
    "id": "KF8NWuch9zvy"
   },
   "execution_count": null,
   "outputs": []
  },
  {
   "cell_type": "code",
   "source": [
    "df.head()"
   ],
   "metadata": {
    "id": "xzEGlkcytSKs"
   },
   "execution_count": null,
   "outputs": []
  },
  {
   "cell_type": "code",
   "source": [
    "df['Sales in Thousands'] = df['Sales'].apply(lambda x : x/1000)"
   ],
   "metadata": {
    "id": "jts2vuAN-ZwZ"
   },
   "execution_count": null,
   "outputs": []
  },
  {
   "cell_type": "code",
   "source": [
    "df.head()"
   ],
   "metadata": {
    "id": "aQkoz6ZQ-iSa"
   },
   "execution_count": null,
   "outputs": []
  },
  {
   "cell_type": "markdown",
   "source": [
    "#**3. Data Visualizations**"
   ],
   "metadata": {
    "id": "Yir11CuMoTX4"
   }
  },
  {
   "cell_type": "code",
   "source": [
    "import matplotlib.pyplot as plt\n",
    "import seaborn as sns"
   ],
   "metadata": {
    "id": "iD_cWd6doPuL"
   },
   "execution_count": null,
   "outputs": []
  },
  {
   "cell_type": "code",
   "source": [
    "df1 = df.groupby(by='Region', as_index=False)['Customer_Satisfaction'].mean()\n",
    "\n",
    "plt.figure(figsize = (6,4))\n",
    "plt.bar(x=df1['Region'], height = df1['Customer_Satisfaction'])\n",
    "plt.title(\"Sales by Region\")\n",
    "plt.xlabel(\"Region\")\n",
    "plt.ylabel(\"Total Sales\")\n",
    "plt.show()"
   ],
   "metadata": {
    "id": "INt7GjGzoctK"
   },
   "execution_count": null,
   "outputs": []
  },
  {
   "cell_type": "code",
   "source": [
    "df['Quarter'] = df['Date'].dt.quarter\n",
    "\n",
    "\n",
    "sales_by_quarter_2024 = df[df['Date'].dt.year==2024].groupby('Quarter')['Sales'].sum()\n",
    "\n",
    "plt.figure(figsize=(6, 3))\n",
    "plt.plot(sales_by_quarter_2024.index, sales_by_quarter_2024.values, marker='o', linestyle='-')\n",
    "plt.xlabel('Quarter')\n",
    "plt.ylabel('Total Sales')\n",
    "plt.title('Sales by Quarter 2024')\n",
    "plt.xticks(sales_by_quarter_2024.index)  # Ensure all quarter labels are displayed\n",
    "plt.grid(True)\n",
    "plt.show()"
   ],
   "metadata": {
    "id": "rBgjiKs5pabR"
   },
   "execution_count": null,
   "outputs": []
  },
  {
   "cell_type": "code",
   "source": [
    "plt.figure(figsize = (8,4))\n",
    "total_sales = df[df['Date'].dt.year==2024].groupby(by='Date_Month', as_index=False)['Sales'].mean()\n",
    "sns.lineplot(x=total_sales['Date_Month'], y=total_sales['Sales'])\n",
    "plt.title(\"Total Sales by Date\")\n",
    "plt.xlabel(\"Date_Month\")\n",
    "plt.xticks(rotation=90)\n",
    "plt.ylabel(\"Total Sales\")\n",
    "plt.show()"
   ],
   "metadata": {
    "id": "SD7uf804sAr8"
   },
   "execution_count": null,
   "outputs": []
  },
  {
   "cell_type": "code",
   "source": [
    "corrs = df[['Sales','Customer_Age','Customer_Satisfaction']].corr(method='pearson' )"
   ],
   "metadata": {
    "id": "STiZkcagpcDb"
   },
   "execution_count": null,
   "outputs": []
  },
  {
   "cell_type": "code",
   "source": [
    "corrs"
   ],
   "metadata": {
    "id": "dhS656MYrRH1"
   },
   "execution_count": null,
   "outputs": []
  },
  {
   "cell_type": "code",
   "source": [
    "import seaborn as sns"
   ],
   "metadata": {
    "id": "VChpvlytrDMo"
   },
   "execution_count": null,
   "outputs": []
  },
  {
   "cell_type": "code",
   "source": [
    "sns.heatmap(corrs, annot=True, cmap='bwr')\n",
    "plt.show()"
   ],
   "metadata": {
    "id": "xpylb1y9qqys"
   },
   "execution_count": null,
   "outputs": []
  },
  {
   "metadata": {},
   "cell_type": "raw",
   "source": ""
  }
 ]
}
